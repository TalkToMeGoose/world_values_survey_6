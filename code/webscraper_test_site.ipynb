{
 "cells": [
  {
   "cell_type": "code",
   "execution_count": 7,
   "metadata": {},
   "outputs": [],
   "source": [
    "import requests"
   ]
  },
  {
   "cell_type": "code",
   "execution_count": 8,
   "metadata": {},
   "outputs": [],
   "source": [
    "import urllib.request"
   ]
  },
  {
   "cell_type": "code",
   "execution_count": 9,
   "metadata": {},
   "outputs": [],
   "source": [
    "import time"
   ]
  },
  {
   "cell_type": "code",
   "execution_count": 10,
   "metadata": {},
   "outputs": [],
   "source": [
    "from bs4 import BeautifulSoup"
   ]
  },
  {
   "cell_type": "code",
   "execution_count": 11,
   "metadata": {},
   "outputs": [],
   "source": [
    "page = requests.get('http://www.worldvaluessurvey.org/WVSDocumentationWV6.jsp')"
   ]
  },
  {
   "cell_type": "code",
   "execution_count": 12,
   "metadata": {},
   "outputs": [],
   "source": [
    "soup = BeautifulSoup(page.content, 'html.parser')"
   ]
  },
  {
   "cell_type": "code",
   "execution_count": 13,
   "metadata": {},
   "outputs": [],
   "source": [
    "title = soup.title.text"
   ]
  },
  {
   "cell_type": "code",
   "execution_count": 14,
   "metadata": {},
   "outputs": [],
   "source": [
    "page_title = soup.title.text"
   ]
  },
  {
   "cell_type": "code",
   "execution_count": 15,
   "metadata": {},
   "outputs": [
    {
     "name": "stdout",
     "output_type": "stream",
     "text": [
      "WVS Database\n"
     ]
    }
   ],
   "source": [
    "print(page_title)"
   ]
  },
  {
   "cell_type": "code",
   "execution_count": 16,
   "metadata": {},
   "outputs": [],
   "source": [
    "page_body = soup.body"
   ]
  },
  {
   "cell_type": "code",
   "execution_count": 17,
   "metadata": {},
   "outputs": [],
   "source": [
    "page_head = soup.head"
   ]
  },
  {
   "cell_type": "code",
   "execution_count": 18,
   "metadata": {
    "collapsed": true,
    "jupyter": {
     "outputs_hidden": true
    }
   },
   "outputs": [
    {
     "name": "stdout",
     "output_type": "stream",
     "text": [
      "<body alink=\"#000000\" class=\"body\" link=\"#000000\" vlink=\"#000000\"><div id=\"fb-root\"></div>\n",
      "<script>(function(d, s, id) {\n",
      "  var js, fjs = d.getElementsByTagName(s)[0];\n",
      "  if (d.getElementById(id)) return;\n",
      "  js = d.createElement(s); js.id = id;\n",
      "  js.src = \"//connect.facebook.net/en_EN/all.js#xfbml=1\";\n",
      "  fjs.parentNode.insertBefore(js, fjs);\n",
      "}(document, 'script', 'facebook-jssdk'));</script>\n",
      "<form action=\"\" method=\"Post\" name=\"Datos\">\n",
      "<input name=\"ulthost\" type=\"hidden\" value=\"WVS\"/>\n",
      "<input name=\"CMSID\" type=\"hidden\"/>\n",
      "<script language=\"JavaScript\">\n",
      "\tvar datos=document.Datos;\n",
      "\tvar dialogBox=false;\n",
      "\tvar dialogDiv=\"\";\n",
      "\t\n",
      "\t\n",
      "\tfunction Home() {\n",
      "\t\tdatos.action=\"wvs.jsp\";\n",
      "\t\tdatos.submit();\n",
      "\t}\n",
      "\tfunction SetContent(clave) {\n",
      "\t\tdatos.CMSID.value=clave;\n",
      "\t\tif (clave==\"#Home\" || clave==\"Home\") {\n",
      "\t\t\tdatos.action=\"wvs.jsp\";\n",
      "\t\t} else if (clave.startsWith(\"#\")) {\n",
      "\t\t\tdatos.action=\"WVS\"+clave.substring(1)+\".jsp\";\n",
      "\t\t} else {\n",
      "\t\t\tdatos.action=\"WVSContents.jsp\";\n",
      "\t\t}\n",
      "\t\tdatos.submit();\n",
      "\t}\n",
      "\t function jdAddCssStyle(nombre,estilo) {\n",
      "\t \tif(navigator.userAgent.toLowerCase().indexOf('firefox') > -1){\n",
      "\t \t\tvar x = document.styleSheets[0];\n",
      "\t \t\tx.insertRule(nombre+\" {\"+estilo+\"}\",x.cssRules.length);\n",
      "\t \t} else {\n",
      "\t \t\tdocument.styleSheets[0].addRule(nombre,estilo);\n",
      "\t \t}\n",
      "\t }\n",
      "\tfunction Inicia() {\n",
      "\t\tvar w=$( window ).width();\n",
      "\t\tif (w<960) w=960;\n",
      "\t\tif (w>2000) w=2000;\n",
      "\t\tjdAddCssStyle(\".body\",\"width:\"+w+\"px !important;\");\n",
      "\t\tjdAddCssStyle(\".AJPage\",\"width:\"+w+\"px !important;\");\n",
      "\t\tjdAddCssStyle(\".AJFoot\",\"width:\"+w+\"px !important;\");\n",
      "\t\tjdAddCssStyle(\".bodyFrame\",\"width:\"+w+\"px !important;\");\n",
      "\t}\n",
      "\t\n",
      "</script>\n",
      "<div class=\"AJHead\"></div>\n",
      "<div class=\"AJPage\" id=\"PAGE\">\n",
      "<div class=\"AJFondo\">\n",
      "<div id=\"page_content\">\n",
      "<div id=\"content_container\" style=\"padding-right:0px;\">\n",
      "\" width=\"730\"/></div><div><img src=\"banners/mixed26.jpg\" width=\"730\"/></div></div><div id=\"content_header_left_fade\"><a href=\"JavaScript:Home()\"><img alt=\"Archive Logo\" class=\"archive_logo\" src=\"/banners/logoWVS215.png\"/></a></div></div><div id=\"content_header_bottom_fade\"></div></div>t_header_image2\"><div id=\"header_images\"><div><img src=\"banners/mixed23.jpg\n",
      "<div id=\"column_container\" style=\"padding-right:0px;width:100%;\">\n",
      "<!--Columna0 -->\n",
      "<div id=\"left_column\">\n",
      "<div id=\"left_column_header\">\n",
      "<div class=\"section_heading_label\">In This Section</div>\n",
      "</div>\n",
      "<!--left-content -->\n",
      "<div id=\"left_column_content\">\n",
      "<ul class=\"nav\"><ul class=\"nav\"><li><a href=\"javaScript:SetContent('wvswave7')\" title=\"WVS wave 7\">WVS wave 7</a><li><a href=\"javaScript:SetContent('WhoWeAre')\" title=\"Who we are\">Who we are</a><li><a href=\"javaScript:SetContent('WhatWeDo')\" title=\"What we do\">What we do</a><li><a href=\"javaScript:SetContent('Findings')\" title=\"Findings &amp; Insights\">Findings &amp; Insights</a><li><a href=\"javaScript:SetContent('DataDoc')\" title=\"Data &amp; Documentation\">Data &amp; Documentation</a><ul class=\"nav\"><li><a href=\"javaScript:SetContent('Documentation')\" title=\"Documentation / Downloads\">Documentation / Downloads</a><ul class=\"nav\"><li><a href=\"javaScript:SetContent('#EVSjoint2017')\" title=\"WVS/EVS Joint 2017\">WVS/EVS Joint 2017</a><li><a href=\"javaScript:SetContent('#DocumentationWV7')\" title=\"Wave 7 (2017-2020)\">Wave 7 (2017-2020)</a><li><a href=\"javaScript:SetContent('#DocumentationWV6')\" style=\"font-weight:600;\" title=\"Wave 6 (2010-2014)\">Wave 6 (2010-2014)</a><li><a href=\"javaScript:SetContent('#DocumentationWV5')\" title=\"Wave 5 (2005-2009)\">Wave 5 (2005-2009)</a><li><a href=\"javaScript:SetContent('#DocumentationWV4')\" title=\"Wave 4 (1999-2004)\">Wave 4 (1999-2004)</a><li><a href=\"javaScript:SetContent('#DocumentationWV3')\" title=\"Wave 3 (1995-1998)\">Wave 3 (1995-1998)</a><li><a href=\"javaScript:SetContent('#DocumentationWV2')\" title=\"Wave 2 (1990-1994)\">Wave 2 (1990-1994)</a><li><a href=\"javaScript:SetContent('#DocumentationWV1')\" title=\"Wave 1 (1981-1984)\">Wave 1 (1981-1984)</a><li><a href=\"javaScript:SetContent('#DocumentationWVL')\" title=\"Time Series Data\">Time Series Data</a><li><a href=\"javaScript:SetContent('regional')\" title=\"Regional WVS surveys\">Regional WVS surveys</a></li></li></li></li></li></li></li></li></li></li></ul></li></ul><li><a href=\"javaScript:SetContent('Publications')\" title=\"Publications\">Publications</a><li><a href=\"javaScript:SetContent('PaperSeries')\" title=\"Paper Series\">Paper Series</a><li><a href=\"javaScript:SetContent('ContactUs')\" title=\"Contact Us\">Contact Us</a><li><a href=\"javaScript:SetContent('#News')\" title=\"Announcements\">Announcements</a></li></li></li></li></li></li></li></li></li></ul></ul>\n",
      "<br class=\"clear/\"/>\n",
      "</div>\n",
      "</div>\n",
      "<!--Fin Columna0 -->\n",
      "<!--Columna1 -->\n",
      "<div id=\"right_column\" style=\"padding:0px;width:705px;\">\n",
      "<div id=\"right_column_header\">\n",
      "<div id=\"page_heading_label\">WVS Wave 6 (2010-2014)</div>\n",
      "</div>\n",
      "<!-- right content -->\n",
      "<div id=\"right_column_content\" style=\"padding:0px;width:100%;\">\n",
      "<div id=\"breadcrumb_container\">\n",
      "<a href=\"javaScript:SetContent('Home')\">Home</a> <span>›</span><a href=\"javaScript:SetContent('DataDoc')\">Data &amp; Documentation</a> <span>›</span><a href=\"javaScript:SetContent('Documentation')\">Documentation / Downloads</a> <span>›</span> Wave 6 (2010-2014)\n",
      "\t\t\t\t \t</div>\n",
      "<div id=\"main_content\" style=\"padding:0px;width:700px;\">\n",
      "<iframe frameborder=\"0\" id=\"frame1\" name=\"frame1\" scrolling=\"no\" src=\"AJDocumentation.jsp?CndWAVE=6&amp;COUNTRY=\" style=\"width:700px;border:0px;\"></iframe>\n",
      "</div>\n",
      "<div class=\"clear\"> </div>\n",
      "</div>\n",
      "</div>\n",
      "<!--Fin Columna1 -->\n",
      "</div>\n",
      "</div>\n",
      "</div>\n",
      "<script language=\"javascript\">\n",
      "  if (window.addEventListener){\n",
      "\t\twindow.addEventListener(\"message\", function(event) {\n",
      "\t\t\tvar eventData=event.data;\n",
      "\t\t\tif (eventData.substring(0,9)==\"jdsLoaded\") {\n",
      "\t\t\t\n",
      "\t\t\t\tautoResize(eventData.substring(9));\n",
      "\t\t\t}\n",
      "\t\t});\n",
      "  } else if (window.attachEvent){\n",
      "    window.attachEvent('onmessage', function(event) {\n",
      "\t\t\tvar eventData=event.data;\n",
      "\t\t\tif (eventData.substring(0,9)==\"jdsLoaded\") {\n",
      "\t\t\t\tautoResize(eventData.substring(9));\n",
      "\t\t\t}\n",
      "\t\t});\n",
      "  }\n",
      "  \t\n",
      "\tfunction autoResize(newHeight){\n",
      "\t\ttry {\n",
      "\t\t\tvar idFrame=\"frame1\"; \n",
      "\t\t\tdocument.getElementById(\"frame1\").height= (newHeight) + \"px\";\n",
      "\t\t} catch(message) {\n",
      "\t\t\talert(\"ERROR\"+message);\n",
      "\t\t}\n",
      "\t}\n",
      "</script>\n",
      "<div class=\"clear\"> </div>\n",
      "</div> <!-- Fondo -->\n",
      "</div><!-- Page -->\n",
      "<div class=\"AJFoot\">\n",
      "<div id=\"footer_address\">\n",
      "<div class=\"vcard\">\n",
      "<div class=\"org\">PRESIDENT<br/> </div>\n",
      "<div class=\"street-address\">Christian Haerpfer</div>\n",
      "<div class=\"email\"><a href=\"mailto:c.w.haerpfer@gmail.com\" title=\"Email of the President\">c.w.haerpfer@gmail.com</a></div>\n",
      "<div class=\"locality\">WVSA President</div>\n",
      "<div class=\"locality\">University of Vienna</div>\n",
      "<div class=\"locality\">Institute of Political Science</div>\n",
      "<div class=\"locality\">Vienna 1010, Austria</div>\n",
      "</div>\n",
      "</div>\n",
      "<div id=\"footer_address\">\n",
      "<div class=\"vcard\">\n",
      "<div class=\"org\">SECRETARIAT<br/>(WVSA Headquarters)</div>\n",
      "<div class=\"street-address\">Kseniya Kizilova</div>\n",
      "<div class=\"email\"><a href=\"mailto:wvsa.secretariat@gmail.com\" title=\"Email of the Secretariat\">wvsa.secretariat@gmail.com</a></div>\n",
      "<div class=\"locality\">Head of WVSA Secretariat</div>\n",
      "<div class=\"locality\">Institute for Comparative</div>\n",
      "<div class=\"locality\">Survey Research</div>\n",
      "<div class=\"locality\">Vienna 1040, Austria</div>\n",
      "</div>\n",
      "</div>\n",
      "<div id=\"footer_address\">\n",
      "<div class=\"vcard\">\n",
      "<div class=\"org\">LEGAL SEAT<br/> </div>\n",
      "<div class=\"street-address\">Bi Puranen</div>\n",
      "<div class=\"email\" style=\"font-size:120%\"><a href=\"mailto:bi.puranen@worldvaluessurvey.org\" title=\"Email LEGAL SEAT\">bi.puranen@worldvaluessurvey.org</a></div>\n",
      "<div class=\"locality\">Secretary-General</div>\n",
      "<div class=\"locality\">Institute for Future Studies</div>\n",
      "<div class=\"locality\">Stockholm, Sweden 101 31</div>\n",
      "</div>\n",
      "</div>\n",
      "<div id=\"footer_address\" style=\"width:200px;\">\n",
      "<div class=\"vcard\">\n",
      "<div class=\"org\">DATA ARCHIVE<br/> </div>\n",
      "<div class=\"street-address\">Jaime Diez-Medrano</div>\n",
      "<div class=\"email\"><a href=\"mailto:jdiezmed@jdsurvey.net\" title=\"Email WVSA Archive\">jdiezmed@jdsurvey.net</a></div>\n",
      "<div class=\"locality\">Director of the WVSA Archive</div>\n",
      "<span class=\"locality\">Pza Manuel Rodrigo 1, B-1E</span>\n",
      "<div class=\"locality\">Madrid, Spain 28043</div>\n",
      "</div>\n",
      "</div>\n",
      "<div class=\"clear\"></div>\n",
      "<div style=\"width:100%;clear:both;text-align:center;\">Copyright @2020 World Values Survey Association</div>\n",
      "<!-- \t\t\t<div id=\"footer_links\" style=\"float:right;width:170px;margin-right:0px;\"> -->\n",
      "<!-- \t\t\t\t<div id=\"footer_links_right\" style=\"float:right;width:170px;\"> -->\n",
      "<!-- \t\t\t\t\t<div class=\"footer_heading\">Special pages</div> -->\n",
      "<!-- \t\t\t\t\t<ul> -->\n",
      "<!-- \t\t\t\t\t\t<li><a href=\"javaScript:SetContent('Links')\" title=\"WVS interesting links\">WVS links</a></li> -->\n",
      "<!-- \t\t\t\t\t\t<li><a href=\"WVSSiteMap.jsp\" title=\"Site Map\">Site Map</a></li> -->\n",
      "<!-- \t\t\t\t\t\t<li><a href=\"WVSNewsEventsMap.jsp\" title=\"News and events index\">Index of news & events</a></li> -->\n",
      "<!-- \t\t\t\t\t\t<li><a href=\"WVSPublicationsMap.jsp\" title=\"Publications index\">Index of publications</a></li> -->\n",
      "<!-- \t\t\t\t\t\t<li><a href=\"WVSSupport.jsp\" title=\"Send support request\">Support</a></li> -->\n",
      "<!-- \t\t\t\t\t</ul>\t -->\n",
      "<!-- \t\t\t\t</div> -->\n",
      "<!-- \t\t\t\t<br class=\"clear\" /> -->\n",
      "<!-- \t\t\t</div> -->\n",
      "<br class=\"clear\">\n",
      "</br></div>\n",
      "<input name=\"DOID\" type=\"hidden\"/>\n",
      "<input name=\"INID\" type=\"hidden\"/>\n",
      "<input name=\"AJArchive\" type=\"hidden\" value=\"WVS Data Archive\"/>\n",
      "<input name=\"EdFunction\" type=\"hidden\"/>\n",
      "<input name=\"DOP\" type=\"hidden\" value=\"\"/>\n",
      "<input name=\"PUB\" type=\"hidden\"/>\n",
      "<script language=\"JavaScript\">\n",
      "\tfunction  SetPubDoc(id) {\n",
      "\t\tdatos.PUB.value=id;\n",
      "\t\tdatos.action=\"WVSPublicationsDocuments.jsp\";\n",
      "\t\tdatos.target=\"_top\";\n",
      "\t\tdatos.submit();\n",
      "\t}\n",
      "\tfunction  SetPubBook(id) {\n",
      "\t\tdatos.PUB.value=id;\n",
      "\t\tdatos.action=\"WVSPublicationsBooks.jsp\";\n",
      "\t\tdatos.target=\"_top\";\n",
      "\t\tdatos.submit();\n",
      "\t}\n",
      "\tfunction  SetPubPaper(id) {\n",
      "\t\tdatos.PUB.value=id;\n",
      "\t\tdatos.action=\"WVSPublicationsPapers.jsp\";\n",
      "\t\tdatos.target=\"_top\";\n",
      "\t\tdatos.submit();\n",
      "\t}\n",
      "\tfunction  SetPubPres(id) {\n",
      "\t\tdatos.PUB.value=id;\n",
      "\t\tdatos.action=\"WVSPublicationsPresentations.jsp\";\n",
      "\t\tdatos.target=\"_top\";\n",
      "\t\tdatos.submit();\n",
      "\t}\n",
      "</script>\n",
      "<!-- AddThis Smart Layers BEGIN -->\n",
      "<!-- Go to http://www.addthis.com/get/smart-layers to customize -->\n",
      "<script src=\"//s7.addthis.com/js/300/addthis_widget.js#pubid=xa-523099c45fe42bdd\" type=\"text/javascript\"></script>\n",
      "<script type=\"text/javascript\">\n",
      "\t  addthis.layers({\n",
      "\t    'theme' : 'transparent',\n",
      "\t    'share' : {\n",
      "\t      'position' : 'right',\n",
      "\t      'numPreferredServices' : 5\n",
      "\t    }, \n",
      "\t    'follow' : {\n",
      "\t      'services' : [\n",
      "\t        {'service': 'facebook', 'id': 'WorldValuesSurvey'},\n",
      "\t        {'service': 'twitter', 'id': 'WVS_Survey'}\n",
      "\t      ]\n",
      "\t    }\n",
      "\t  });\n",
      "\t\t/*\n",
      "\t\tvar addthis_share = {\n",
      "\t  \turl: \"\"\n",
      "\t \t}\t  \n",
      "\t \t*/\n",
      "\t</script>\n",
      "<!-- AddThis Smart Layers END -->\n",
      "<script>\n",
      "\t\t\n",
      "\t\t\t\tvar geodatos=encodeURIComponent(\"95.90.241.78\\tx\\tx\\tx\\tx\\tx\\tx\\tx\");\n",
      "\t\t\t\t$.get(\"jdsStatJD.jsp?ID=\"+geodatos+\n",
      "\t\t\t\t\t\"&url=http%3A%2F%2Fwww.worldvaluessurvey.org%2FWVSDocumentationWV6.jsp&referer=null&cms=%23DocumentationWV6\",\n",
      "\t\t\t\t\tfunction (resp2) {\n",
      "\t\t\t\t});\n",
      "\n",
      "\t\t\t\n",
      "</script>\n",
      "</form>\n",
      "</body> <head>\n",
      "<title>WVS Database</title>\n",
      "<meta content=\"WVS Data ArchiveJDS,Survey, JDSurvey, online data analysis, encuestas,WVS Database,World Values Survey Data-Archive\" name=\"keywords\"/>\n",
      "<meta content=\"World Values Survey Data-Archive Online Survey analysis website\" name=\"description\"/>\n",
      "<meta content=\"text/html; charset=utf-8\" http-equiv=\"Content-Type\"/>\n",
      "<meta content=\"width=device-width, maximum-scale=10, minimum-scale=0.1, user-scalable=yes\" name=\"viewport\"/>\n",
      "<meta content=\"summary\" name=\"twitter:card\">\n",
      "<meta content=\"@WVS_Survey\" name=\"twitter:site\">\n",
      "<meta content=\"World Values Survey Association\" name=\"twitter:title\">\n",
      "<meta content=\"World Values Survey Association\" name=\"twitter:description\">\n",
      "<!-- <meta name=\"twitter:image\" content=\"https://farm6.staticflickr.com/5510/14338202952_93595258ff_z.jpg\" />\t -->\n",
      "<script language=\"JavaScript\" src=\"js/jds.js\"></script>\n",
      "<script language=\"JavaScript\" src=\"/maps/FusionCharts.js\"></script>\n",
      "<link href=\"css/reset.css\" rel=\"stylesheet\" type=\"text/css\"/>\n",
      "<link href=\"css/ajtypography.css\" rel=\"stylesheet\" type=\"text/css\"/>\n",
      "<link href=\"css/sub.css?version=2020-07-22\" rel=\"stylesheet\" type=\"text/css\"/>\n",
      "<link href=\"css/news.css\" rel=\"stylesheet\" type=\"text/css\"/>\n",
      "<link href=\"css/events.css\" rel=\"stylesheet\" type=\"text/css\"/>\n",
      "<link href=\"css/custom_search.css\" rel=\"stylesheet\" type=\"text/css\"/>\n",
      "<link href=\"css/ajWVS.css?version=2020-07-22\" rel=\"stylesheet\" type=\"text/css\"/>\n",
      "<script src=\"js/jquery.tools.min.js\" type=\"text/javascript\"></script>\n",
      "<link href=\"js/grid/dhtmlxtabbar.css\" rel=\"STYLESHEET\" type=\"text/css\"/>\n",
      "<script src=\"js/grid/dhtmlxcommon.js\"></script>\n",
      "<script src=\"js/grid/dhtmlxtabbar.js\"></script>\n",
      "<script>\n",
      "dhtmlx.skin = \"dhx_web\";\n",
      "</script>\n",
      "</meta></meta></meta></meta></head>\n"
     ]
    }
   ],
   "source": [
    "print(page_body, page_head)"
   ]
  },
  {
   "cell_type": "code",
   "execution_count": null,
   "metadata": {},
   "outputs": [],
   "source": []
  },
  {
   "cell_type": "code",
   "execution_count": null,
   "metadata": {},
   "outputs": [],
   "source": []
  },
  {
   "cell_type": "code",
   "execution_count": null,
   "metadata": {},
   "outputs": [],
   "source": []
  },
  {
   "cell_type": "code",
   "execution_count": null,
   "metadata": {},
   "outputs": [],
   "source": []
  },
  {
   "cell_type": "code",
   "execution_count": null,
   "metadata": {},
   "outputs": [],
   "source": []
  },
  {
   "cell_type": "code",
   "execution_count": null,
   "metadata": {},
   "outputs": [],
   "source": []
  },
  {
   "cell_type": "code",
   "execution_count": 19,
   "metadata": {},
   "outputs": [],
   "source": [
    "res = requests.get('http://www.worldvaluessurvey.org/WVSDocumentationWV6.jsp')"
   ]
  },
  {
   "cell_type": "code",
   "execution_count": 20,
   "metadata": {
    "collapsed": true,
    "jupyter": {
     "outputs_hidden": true
    }
   },
   "outputs": [
    {
     "name": "stdout",
     "output_type": "stream",
     "text": [
      "\n",
      "<!DOCTYPE html PUBLIC \"-//W3C//DTD HTML 4.01//EN\" \"http://www.w3.org/TR/html4/strict.dtd\">\n",
      "<html lang=\"en\">\n",
      "<head>\n",
      "\t<title>WVS Database</title>\n",
      "\t<META CONTENT=\"WVS Data ArchiveJDS,Survey, JDSurvey, online data analysis, encuestas,WVS Database,World Values Survey Data-Archive\" NAME=\"keywords\">\n",
      "\t<META CONTENT=\"World Values Survey Data-Archive Online Survey analysis website\" NAME=\"description\">\n",
      "\t<meta http-equiv=\"Content-Type\" content=\"text/html; charset=UTF-8\">\n",
      "\t<meta name=\"viewport\" content=\"width=device-width, maximum-scale=10, minimum-scale=0.1, user-scalable=yes\">\n",
      "<meta name=\"twitter:card\" content=\"summary\" />\n",
      "<meta name=\"twitter:site\" content=\"@WVS_Survey\" />\n",
      "<meta name=\"twitter:title\" content=\"World Values Survey Association\" />\n",
      "<meta name=\"twitter:description\" content=\"World Values Survey Association\" />\n",
      "<!-- <meta name=\"twitter:image\" content=\"https://farm6.staticflickr.com/5510/14338202952_93595258ff_z.jpg\" />\t -->\n",
      "\t<script language=\"JavaScript\" src=\"js/jds.js\"></script>\n",
      "\t<script language=\"JavaScript\" src=\"/maps/FusionCharts.js\"></script>\n",
      "\t<link href=\"css/reset.css\" rel=\"stylesheet\" type=\"text/css\">\n",
      "\t\n",
      "\t<link href=\"css/ajtypography.css\" rel=\"stylesheet\" type=\"text/css\">\n",
      "\t\n",
      "\t<link href=\"css/sub.css?version=2020-07-22\" rel=\"stylesheet\" type=\"text/css\">\n",
      "\t\n",
      "\t\n",
      "\t<link href=\"css/news.css\" rel=\"stylesheet\" type=\"text/css\">\n",
      "\t\n",
      "\t\n",
      "\t<link href=\"css/events.css\" rel=\"stylesheet\" type=\"text/css\">\n",
      "\t\n",
      "\t\n",
      "\t<link href=\"css/custom_search.css\" rel=\"stylesheet\" type=\"text/css\">\n",
      "\t\n",
      "\n",
      "\t<link href=\"css/ajWVS.css?version=2020-07-22\" rel=\"stylesheet\" type=\"text/css\">\n",
      "\t<script type='text/javascript' src=\"js/jquery.tools.min.js\"></script>\n",
      "\n",
      "\t<link rel=\"STYLESHEET\" type=\"text/css\" href=\"js/grid/dhtmlxtabbar.css\">\n",
      "\t<script src=\"js/grid/dhtmlxcommon.js\"></script>\n",
      "\t<script src=\"js/grid/dhtmlxtabbar.js\"></script>\n",
      "\t\n",
      "<script>\n",
      "dhtmlx.skin = \"dhx_web\";\n",
      "</script>\n",
      "\n",
      "</head>\n",
      "<body class=\"body\" link=\"#000000\" vlink=\"#000000\" alink=\"#000000\" ><div id=\"fb-root\"></div>\n",
      "<script>(function(d, s, id) {\n",
      "  var js, fjs = d.getElementsByTagName(s)[0];\n",
      "  if (d.getElementById(id)) return;\n",
      "  js = d.createElement(s); js.id = id;\n",
      "  js.src = \"//connect.facebook.net/en_EN/all.js#xfbml=1\";\n",
      "  fjs.parentNode.insertBefore(js, fjs);\n",
      "}(document, 'script', 'facebook-jssdk'));</script>\n",
      "<form name=Datos method=Post action=\"\">\n",
      "\t<input type=hidden name=ulthost value=\"WVS\">\n",
      "\t<input type=hidden name=CMSID>\n",
      "<script language=\"JavaScript\">\n",
      "\tvar datos=document.Datos;\n",
      "\tvar dialogBox=false;\n",
      "\tvar dialogDiv=\"\";\n",
      "\t\n",
      "\t\n",
      "\tfunction Home() {\n",
      "\t\tdatos.action=\"wvs.jsp\";\n",
      "\t\tdatos.submit();\n",
      "\t}\n",
      "\tfunction SetContent(clave) {\n",
      "\t\tdatos.CMSID.value=clave;\n",
      "\t\tif (clave==\"#Home\" || clave==\"Home\") {\n",
      "\t\t\tdatos.action=\"wvs.jsp\";\n",
      "\t\t} else if (clave.startsWith(\"#\")) {\n",
      "\t\t\tdatos.action=\"WVS\"+clave.substring(1)+\".jsp\";\n",
      "\t\t} else {\n",
      "\t\t\tdatos.action=\"WVSContents.jsp\";\n",
      "\t\t}\n",
      "\t\tdatos.submit();\n",
      "\t}\n",
      "\t function jdAddCssStyle(nombre,estilo) {\n",
      "\t \tif(navigator.userAgent.toLowerCase().indexOf('firefox') > -1){\n",
      "\t \t\tvar x = document.styleSheets[0];\n",
      "\t \t\tx.insertRule(nombre+\" {\"+estilo+\"}\",x.cssRules.length);\n",
      "\t \t} else {\n",
      "\t \t\tdocument.styleSheets[0].addRule(nombre,estilo);\n",
      "\t \t}\n",
      "\t }\n",
      "\tfunction Inicia() {\n",
      "\t\tvar w=$( window ).width();\n",
      "\t\tif (w<960) w=960;\n",
      "\t\tif (w>2000) w=2000;\n",
      "\t\tjdAddCssStyle(\".body\",\"width:\"+w+\"px !important;\");\n",
      "\t\tjdAddCssStyle(\".AJPage\",\"width:\"+w+\"px !important;\");\n",
      "\t\tjdAddCssStyle(\".AJFoot\",\"width:\"+w+\"px !important;\");\n",
      "\t\tjdAddCssStyle(\".bodyFrame\",\"width:\"+w+\"px !important;\");\n",
      "\t}\n",
      "\t\n",
      "</script>\n",
      " \n",
      "<div class=\"AJHead\"></div>\n",
      "<div id=PAGE class=\"AJPage\">\n",
      "\t<div class=AJFondo>\n",
      " \t\n",
      "<div id=\"page_content\">\n",
      "\t<div id=\"content_container\"  style=\"padding-right:0px;\">\n",
      "' width=730 /></div><div><img src='banners/mixed26.jpg' width=730 /></div></div><div id='content_header_left_fade'><a href='JavaScript:Home()'><img src='/banners/logoWVS215.png' alt='Archive Logo' class='archive_logo' /></a></div></div><div id='content_header_bottom_fade'></div></div>tent_header_image2'><div id='header_images'><div><img src='banners/mixed23.jpg\n",
      "\t\t<div id=\"column_container\"  style=\"padding-right:0px;width:100%;\">\n",
      "\t\t \t<!--Columna0 -->\n",
      "\t\t\t<div id=\"left_column\">\n",
      "\t\t\t\t<div id=\"left_column_header\">\n",
      "\t\t\t\t\t<div class=\"section_heading_label\">In This Section</div>\n",
      "\t\t\t\t</div>\n",
      "\t\t\t\t<!--left-content -->\n",
      "\t\t\t\t<div id=\"left_column_content\">\n",
      "\t\t\t\t\t<ul class='nav'><ul class='nav'><li><a href=\"javaScript:SetContent('wvswave7')\"  title=\"WVS wave 7\">WVS wave 7</a><li><a href=\"javaScript:SetContent('WhoWeAre')\"  title=\"Who we are\">Who we are</a><li><a href=\"javaScript:SetContent('WhatWeDo')\"  title=\"What we do\">What we do</a><li><a href=\"javaScript:SetContent('Findings')\"  title=\"Findings & Insights\">Findings & Insights</a><li><a href=\"javaScript:SetContent('DataDoc')\"  title=\"Data & Documentation\">Data & Documentation</a><ul class='nav'><li><a href=\"javaScript:SetContent('Documentation')\"  title=\"Documentation / Downloads\">Documentation / Downloads</a><ul class='nav'><li><a href=\"javaScript:SetContent('#EVSjoint2017')\"  title=\"WVS/EVS Joint 2017\">WVS/EVS Joint 2017</a><li><a href=\"javaScript:SetContent('#DocumentationWV7')\"  title=\"Wave 7 (2017-2020)\">Wave 7 (2017-2020)</a><li><a href=\"javaScript:SetContent('#DocumentationWV6')\"  style='font-weight:600;'  title=\"Wave 6 (2010-2014)\">Wave 6 (2010-2014)</a><li><a href=\"javaScript:SetContent('#DocumentationWV5')\"  title=\"Wave 5 (2005-2009)\">Wave 5 (2005-2009)</a><li><a href=\"javaScript:SetContent('#DocumentationWV4')\"  title=\"Wave 4 (1999-2004)\">Wave 4 (1999-2004)</a><li><a href=\"javaScript:SetContent('#DocumentationWV3')\"  title=\"Wave 3 (1995-1998)\">Wave 3 (1995-1998)</a><li><a href=\"javaScript:SetContent('#DocumentationWV2')\"  title=\"Wave 2 (1990-1994)\">Wave 2 (1990-1994)</a><li><a href=\"javaScript:SetContent('#DocumentationWV1')\"  title=\"Wave 1 (1981-1984)\">Wave 1 (1981-1984)</a><li><a href=\"javaScript:SetContent('#DocumentationWVL')\"  title=\"Time Series Data\">Time Series Data</a><li><a href=\"javaScript:SetContent('regional')\"  title=\"Regional WVS surveys\">Regional WVS surveys</a></ul></ul><li><a href=\"javaScript:SetContent('Publications')\"  title=\"Publications\">Publications</a><li><a href=\"javaScript:SetContent('PaperSeries')\"  title=\"Paper Series\">Paper Series</a><li><a href=\"javaScript:SetContent('ContactUs')\"  title=\"Contact Us\">Contact Us</a><li><a href=\"javaScript:SetContent('#News')\"  title=\"Announcements\">Announcements</a></ul></ul>\n",
      "\t\t\t\t\t<br class=clear/>\n",
      "\t\t\t\t</div>\n",
      "\t\t\t</div>\t\n",
      "\t\t \t<!--Fin Columna0 -->\n",
      "\n",
      "\t\t \t<!--Columna1 -->\n",
      "\t\t\t<div id=\"right_column\"  style=\"padding:0px;width:705px;\">\n",
      "\t\t\t\t<div id=\"right_column_header\">\n",
      "\t\t\t\t\t<div id=\"page_heading_label\">WVS Wave 6 (2010-2014)</div>\t\t\t\n",
      "\t\t\t\t</div>\n",
      "\t\t\t\t<!-- right content -->\n",
      "\t\t\t\t<div id=\"right_column_content\" style=\"padding:0px;width:100%;\">\n",
      "\t\t\t\t\t<div id=\"breadcrumb_container\">\n",
      "\t\t\t\t \t\t<a href=\"javaScript:SetContent('Home')\">Home</a> <span>&rsaquo;</span><a href=\"javaScript:SetContent('DataDoc')\">Data & Documentation</a> <span>&rsaquo;</span><a href=\"javaScript:SetContent('Documentation')\">Documentation / Downloads</a> <span>&rsaquo;</span> Wave 6 (2010-2014)\n",
      "\t\t\t\t \t</div>\n",
      "\t\t\t\t\t<div id=\"main_content\"  style=\"padding:0px;width:700px;\">\n",
      "\t\t\t\t\t\t<iframe id=\"frame1\" name=\"frame1\" src=\"AJDocumentation.jsp?CndWAVE=6&COUNTRY=\" \n",
      "\t\t\t\t\t\t\tstyle=\"width:700px;border:0px;\" frameborder=\"0\" scrolling=\"no\"></iframe>\n",
      "\t\t\t\t\t</div>\t\n",
      "\t\t\t\t\t<div class=clear>&nbsp;</div>\n",
      "\t\t\t\t</div>\n",
      "\t\t\t</div>\n",
      "\t\t\t<!--Fin Columna1 -->\n",
      "\t\t</div>\n",
      "\t</div>\n",
      "</div>\n",
      "<script language=javascript>\n",
      "  if (window.addEventListener){\n",
      "\t\twindow.addEventListener(\"message\", function(event) {\n",
      "\t\t\tvar eventData=event.data;\n",
      "\t\t\tif (eventData.substring(0,9)==\"jdsLoaded\") {\n",
      "\t\t\t\n",
      "\t\t\t\tautoResize(eventData.substring(9));\n",
      "\t\t\t}\n",
      "\t\t});\n",
      "  } else if (window.attachEvent){\n",
      "    window.attachEvent('onmessage', function(event) {\n",
      "\t\t\tvar eventData=event.data;\n",
      "\t\t\tif (eventData.substring(0,9)==\"jdsLoaded\") {\n",
      "\t\t\t\tautoResize(eventData.substring(9));\n",
      "\t\t\t}\n",
      "\t\t});\n",
      "  }\n",
      "  \t\n",
      "\tfunction autoResize(newHeight){\n",
      "\t\ttry {\n",
      "\t\t\tvar idFrame=\"frame1\"; \n",
      "\t\t\tdocument.getElementById(\"frame1\").height= (newHeight) + \"px\";\n",
      "\t\t} catch(message) {\n",
      "\t\t\talert(\"ERROR\"+message);\n",
      "\t\t}\n",
      "\t}\n",
      "</script>\n",
      "<div class=clear>&nbsp;</div>\n",
      "\t\t\t</div> <!-- Fondo -->\n",
      "\t\t</div><!-- Page -->\n",
      "\t\t<div class=AJFoot >\n",
      "\n",
      "\t\t\t<div id=\"footer_address\">\n",
      "\t\t\t\t<div class=\"vcard\">\n",
      "\t\t\t\t\t<div class=\"org\" >PRESIDENT<br>&nbsp;</div>\n",
      "\t\t\t\t\t<div class=\"street-address\">Christian Haerpfer</div>\n",
      "\t\t\t\t\t<div class=\"email\"><a href=\"mailto:c.w.haerpfer@gmail.com\" title=\"Email of the President\">c.w.haerpfer@gmail.com</a></div>\n",
      "\t\t\t\t\t<div class=\"locality\">WVSA President</div> \n",
      "\t\t\t\t\t<div class=\"locality\">University of Vienna</div>\n",
      "\t\t\t\t\t<div class=\"locality\">Institute of Political Science</div>\n",
      "\t\t\t\t\t<div class=\"locality\">Vienna 1010, Austria</div>\n",
      "\t\t\t\t</div>\n",
      "\t\t\t</div>\n",
      " \n",
      "\t\t\t<div id=\"footer_address\">\n",
      "\t\t\t\t<div class=\"vcard\">\n",
      "\t\t\t\t\t<div class=\"org\"  >SECRETARIAT<br>(WVSA Headquarters)</div>\n",
      "\t\t\t\t\t<div class=\"street-address\">Kseniya Kizilova</div>\n",
      "\t\t\t\t\t<div class=\"email\"><a href=\"mailto:wvsa.secretariat@gmail.com\" title=\"Email of the Secretariat\">wvsa.secretariat@gmail.com</a></div>\n",
      "\t\t\t\t\t<div class=\"locality\">Head of WVSA Secretariat</div> \n",
      "\t\t\t\t\t<div class=\"locality\">Institute for Comparative</div>\n",
      "\t\t\t\t\t<div class=\"locality\">Survey Research</div>\n",
      "\t\t\t\t\t<div class=\"locality\">Vienna 1040, Austria</div>\n",
      "\t\t\t\t</div>\n",
      "\t\t\t</div>\n",
      "\t\t\t<div id=\"footer_address\">\n",
      "\t\t\t\t<div class=\"vcard\">\n",
      "\t\t\t\t\t<div class=\"org\" >LEGAL SEAT<br>&nbsp;</div>\n",
      "\t\t\t\t\t<div class=\"street-address\">Bi Puranen</div>\n",
      "\t\t\t\t\t<div class=\"email\" style=\"font-size:120%\"><a href=\"mailto:bi.puranen@worldvaluessurvey.org\" title=\"Email LEGAL SEAT\">bi.puranen@worldvaluessurvey.org</a></div>\n",
      "\t\t\t\t\t<div class=\"locality\">Secretary-General</div>\n",
      "\t\t\t\t\t<div class=\"locality\">Institute for Future Studies</div>\n",
      "\t\t\t\t\t<div class=\"locality\">Stockholm, Sweden 101 31</div>\n",
      "\t\t\t\t</div>\n",
      "\t\t\t</div>\n",
      "\t\t\t<div id=\"footer_address\" style=\"width:200px;\">\n",
      "\t\t\t\t<div class=\"vcard\">\n",
      "\t\t\t\t\t<div class=\"org\" >DATA ARCHIVE<br>&nbsp;</div>\n",
      "\t\t\t\t\t<div class=\"street-address\">Jaime Diez-Medrano</div>\n",
      "\t\t\t\t\t<div class=\"email\"><a href=\"mailto:jdiezmed@jdsurvey.net\" title=\"Email WVSA Archive\">jdiezmed@jdsurvey.net</a></div>\n",
      "\t\t\t\t\t<div class=\"locality\">Director of the WVSA Archive</div>\n",
      "\t\t\t\t\t<span class=\"locality\">Pza Manuel Rodrigo 1, B-1E</span>\n",
      "\t\t\t\t\t<div class=\"locality\">Madrid, Spain 28043</div>\n",
      "\t\t\t\t</div>\n",
      "\t\t\t</div>\n",
      "\t\t\t<div class=clear></div>\n",
      "\t\t\t<div style=\"width:100%;clear:both;text-align:center;\">Copyright @2020 World Values Survey Association</div>\n",
      "<!-- \t\t\t<div id=\"footer_links\" style=\"float:right;width:170px;margin-right:0px;\"> -->\n",
      "<!-- \t\t\t\t<div id=\"footer_links_right\" style=\"float:right;width:170px;\"> -->\n",
      "<!-- \t\t\t\t\t<div class=\"footer_heading\">Special pages</div> -->\n",
      "<!-- \t\t\t\t\t<ul> -->\n",
      "<!-- \t\t\t\t\t\t<li><a href=\"javaScript:SetContent('Links')\" title=\"WVS interesting links\">WVS links</a></li> -->\n",
      "<!-- \t\t\t\t\t\t<li><a href=\"WVSSiteMap.jsp\" title=\"Site Map\">Site Map</a></li> -->\n",
      "<!-- \t\t\t\t\t\t<li><a href=\"WVSNewsEventsMap.jsp\" title=\"News and events index\">Index of news & events</a></li> -->\n",
      "<!-- \t\t\t\t\t\t<li><a href=\"WVSPublicationsMap.jsp\" title=\"Publications index\">Index of publications</a></li> -->\n",
      "<!-- \t\t\t\t\t\t<li><a href=\"WVSSupport.jsp\" title=\"Send support request\">Support</a></li> -->\n",
      "<!-- \t\t\t\t\t</ul>\t -->\n",
      "<!-- \t\t\t\t</div> -->\n",
      "<!-- \t\t\t\t<br class=\"clear\" /> -->\n",
      "<!-- \t\t\t</div> -->\n",
      "\t\t\t<br class=\"clear\" />\n",
      "\t\t</div>\n",
      "\n",
      "\t\t\t\n",
      "<input type=hidden name=DOID>\t\t\t\n",
      "<input type=hidden name=INID>\t\t\t\n",
      "<input type=hidden name=AJArchive value=\"WVS Data Archive\">\n",
      "<input type=hidden name=EdFunction>\n",
      "<input type=hidden name=DOP value=\"\">\n",
      "<input type=hidden name=PUB>\n",
      "<script language=JavaScript>\n",
      "\tfunction  SetPubDoc(id) {\n",
      "\t\tdatos.PUB.value=id;\n",
      "\t\tdatos.action=\"WVSPublicationsDocuments.jsp\";\n",
      "\t\tdatos.target=\"_top\";\n",
      "\t\tdatos.submit();\n",
      "\t}\n",
      "\tfunction  SetPubBook(id) {\n",
      "\t\tdatos.PUB.value=id;\n",
      "\t\tdatos.action=\"WVSPublicationsBooks.jsp\";\n",
      "\t\tdatos.target=\"_top\";\n",
      "\t\tdatos.submit();\n",
      "\t}\n",
      "\tfunction  SetPubPaper(id) {\n",
      "\t\tdatos.PUB.value=id;\n",
      "\t\tdatos.action=\"WVSPublicationsPapers.jsp\";\n",
      "\t\tdatos.target=\"_top\";\n",
      "\t\tdatos.submit();\n",
      "\t}\n",
      "\tfunction  SetPubPres(id) {\n",
      "\t\tdatos.PUB.value=id;\n",
      "\t\tdatos.action=\"WVSPublicationsPresentations.jsp\";\n",
      "\t\tdatos.target=\"_top\";\n",
      "\t\tdatos.submit();\n",
      "\t}\n",
      "</script>\n",
      "\n",
      "\t<!-- AddThis Smart Layers BEGIN -->\n",
      "\t<!-- Go to http://www.addthis.com/get/smart-layers to customize -->\n",
      "\t<script type=\"text/javascript\" src=\"//s7.addthis.com/js/300/addthis_widget.js#pubid=xa-523099c45fe42bdd\"></script>\n",
      "\t<script type=\"text/javascript\">\n",
      "\t  addthis.layers({\n",
      "\t    'theme' : 'transparent',\n",
      "\t    'share' : {\n",
      "\t      'position' : 'right',\n",
      "\t      'numPreferredServices' : 5\n",
      "\t    }, \n",
      "\t    'follow' : {\n",
      "\t      'services' : [\n",
      "\t        {'service': 'facebook', 'id': 'WorldValuesSurvey'},\n",
      "\t        {'service': 'twitter', 'id': 'WVS_Survey'}\n",
      "\t      ]\n",
      "\t    }\n",
      "\t  });\n",
      "\t\t/*\n",
      "\t\tvar addthis_share = {\n",
      "\t  \turl: \"\"\n",
      "\t \t}\t  \n",
      "\t \t*/\n",
      "\t</script>\n",
      "\t<!-- AddThis Smart Layers END -->\n",
      "\n",
      "\t \n",
      "\n",
      "<script>\n",
      "\t\t\n",
      "\t\t\t\tvar geodatos=encodeURIComponent(\"95.90.241.78\\tx\\tx\\tx\\tx\\tx\\tx\\tx\");\n",
      "\t\t\t\t$.get(\"jdsStatJD.jsp?ID=\"+geodatos+\n",
      "\t\t\t\t\t\"&url=http%3A%2F%2Fwww.worldvaluessurvey.org%2FWVSDocumentationWV6.jsp&referer=null&cms=%23DocumentationWV6\",\n",
      "\t\t\t\t\tfunction (resp2) {\n",
      "\t\t\t\t});\n",
      "\n",
      "\t\t\t\n",
      "</script>\n",
      "\t</form>\n",
      "</body>\n",
      "</html>\n",
      " \n",
      "\n",
      "\n",
      "\n"
     ]
    }
   ],
   "source": [
    "print(res.text)"
   ]
  },
  {
   "cell_type": "code",
   "execution_count": 21,
   "metadata": {},
   "outputs": [
    {
     "name": "stdout",
     "output_type": "stream",
     "text": [
      "200\n"
     ]
    }
   ],
   "source": [
    "print(res.status_code)"
   ]
  },
  {
   "cell_type": "markdown",
   "metadata": {},
   "source": [
    "# Next try!"
   ]
  },
  {
   "cell_type": "code",
   "execution_count": 37,
   "metadata": {},
   "outputs": [],
   "source": [
    "url = 'http://www.worldvaluessurvey.org/AJDocumentation.jsp?CndWAVE=6&COUNTRY='"
   ]
  },
  {
   "cell_type": "code",
   "execution_count": 38,
   "metadata": {},
   "outputs": [],
   "source": [
    "response = requests.get(url)"
   ]
  },
  {
   "cell_type": "code",
   "execution_count": 39,
   "metadata": {},
   "outputs": [],
   "source": [
    "soup = BeautifulSoup(response.text, \"html.parser\")"
   ]
  },
  {
   "cell_type": "code",
   "execution_count": 40,
   "metadata": {},
   "outputs": [],
   "source": [
    "td_data = soup.findAll('td')"
   ]
  },
  {
   "cell_type": "code",
   "execution_count": 41,
   "metadata": {},
   "outputs": [
    {
     "data": {
      "text/plain": [
       "bs4.element.ResultSet"
      ]
     },
     "execution_count": 41,
     "metadata": {},
     "output_type": "execute_result"
    }
   ],
   "source": [
    "type(td_data)"
   ]
  },
  {
   "cell_type": "code",
   "execution_count": 42,
   "metadata": {},
   "outputs": [],
   "source": [
    "td_data_string = str(td_data)"
   ]
  },
  {
   "cell_type": "code",
   "execution_count": 28,
   "metadata": {},
   "outputs": [],
   "source": [
    "import re"
   ]
  },
  {
   "cell_type": "code",
   "execution_count": 43,
   "metadata": {},
   "outputs": [
    {
     "name": "stdout",
     "output_type": "stream",
     "text": [
      "[<td style=\"color:navy;font-weight:bold;\">Integrated documentation</td>, <td>Algeria 2014</td>, <td>Argentina 2013</td>, <td>Armenia 2011</td>, <td>Australia 2012</td>, <td>Azerbaijan 2011</td>, <td>Belarus 2011</td>, <td>Brasil 2014</td>, <td>Colombia 2012</td>, <td>Cyprus 2011</td>, <td>Chile 2012</td>, <td>China 2013</td>, <td>Ecuador 2013</td>, <td>Egypt 2013</td>, <td>Estonia 2011</td>, <td>Georgia 2014</td>, <td>Germany 2013</td>, <td>Ghana 2012</td>, <td>Haiti 2016</td>, <td>Hong Kong 2014</td>, <td>India 2012</td>, <td>Iraq 2013</td>, <td>Japan 2010</td>, <td>Jordan 2014</td>, <td>Kazakhstan 2011</td>, <td>Kuwait 2014</td>, <td>Kyrgyzstan 2011</td>, <td>Lebanon 2013</td>, <td>Libya 2014</td>, <td>Malaysia 2012</td>, <td>Mexico 2012</td>, <td>Morocco 2011</td>, <td>Netherlands 2012</td>, <td>New Zealand 2011</td>, <td>Nigeria 2012</td>, <td>Pakistan 2012</td>, <td>Palestine 2013</td>, <td>Peru 2012</td>, <td>Philippines 2012</td>, <td>Poland 2012</td>, <td>Qatar 2010</td>, <td>Romania 2012</td>, <td>Russia 2011</td>, <td>Rwanda 2012</td>, <td>Singapore 2012</td>, <td>Slovenia 2011</td>, <td>South Korea 2010</td>, <td>South-Africa 2013</td>, <td>Spain 2011</td>, <td>Sweden 2011</td>, <td>Taiwan 2012</td>, <td>Thailand 2013</td>, <td>Trinidad and Tobago 2010</td>, <td>Tunisia 2013</td>, <td>Turkey 2011</td>, <td>Ukraine 2011</td>, <td>United States 2011</td>, <td>Uruguay 2011</td>, <td>Uzbekistan 2011</td>, <td>Yemen 2014</td>, <td>Zimbabwe 2012</td>]\n"
     ]
    }
   ],
   "source": [
    "print(td_data_string)"
   ]
  },
  {
   "cell_type": "code",
   "execution_count": 25,
   "metadata": {},
   "outputs": [
    {
     "ename": "NameError",
     "evalue": "name 'td_data_string' is not defined",
     "output_type": "error",
     "traceback": [
      "\u001b[1;31m---------------------------------------------------------------------------\u001b[0m",
      "\u001b[1;31mNameError\u001b[0m                                 Traceback (most recent call last)",
      "\u001b[1;32m<ipython-input-25-9f2321782222>\u001b[0m in \u001b[0;36m<module>\u001b[1;34m\u001b[0m\n\u001b[1;32m----> 1\u001b[1;33m \u001b[0myear_list\u001b[0m\u001b[1;33m(\u001b[0m\u001b[0mtd_data_string\u001b[0m\u001b[1;33m)\u001b[0m\u001b[1;33m\u001b[0m\u001b[1;33m\u001b[0m\u001b[0m\n\u001b[0m",
      "\u001b[1;31mNameError\u001b[0m: name 'td_data_string' is not defined"
     ]
    }
   ],
   "source": [
    "year_list(td_data_string)"
   ]
  },
  {
   "cell_type": "code",
   "execution_count": 37,
   "metadata": {},
   "outputs": [
    {
     "ename": "NameError",
     "evalue": "name 'hemingway' is not defined",
     "output_type": "error",
     "traceback": [
      "\u001b[1;31m---------------------------------------------------------------------------\u001b[0m",
      "\u001b[1;31mNameError\u001b[0m                                 Traceback (most recent call last)",
      "\u001b[1;32m<ipython-input-37-140284e74438>\u001b[0m in \u001b[0;36m<module>\u001b[1;34m\u001b[0m\n\u001b[1;32m----> 1\u001b[1;33m \u001b[0mread_text\u001b[0m\u001b[1;33m(\u001b[0m\u001b[0mhemingway\u001b[0m\u001b[1;33m)\u001b[0m\u001b[1;33m\u001b[0m\u001b[1;33m\u001b[0m\u001b[0m\n\u001b[0m",
      "\u001b[1;31mNameError\u001b[0m: name 'hemingway' is not defined"
     ]
    }
   ],
   "source": [
    "read_text(hemingway)"
   ]
  },
  {
   "cell_type": "code",
   "execution_count": 5,
   "metadata": {},
   "outputs": [],
   "source": []
  },
  {
   "cell_type": "code",
   "execution_count": 1,
   "metadata": {},
   "outputs": [
    {
     "name": "stdout",
     "output_type": "stream",
     "text": [
      "Textfile written!\n"
     ]
    },
    {
     "ename": "NameError",
     "evalue": "name 'find_td_data_from_txt' is not defined",
     "output_type": "error",
     "traceback": [
      "\u001b[1;31m---------------------------------------------------------------------------\u001b[0m",
      "\u001b[1;31mNameError\u001b[0m                                 Traceback (most recent call last)",
      "\u001b[1;32m<ipython-input-1-d322ac5c221a>\u001b[0m in \u001b[0;36m<module>\u001b[1;34m\u001b[0m\n\u001b[0;32m     36\u001b[0m \u001b[1;33m\u001b[0m\u001b[0m\n\u001b[0;32m     37\u001b[0m \u001b[0mread_write_text_from_url\u001b[0m\u001b[1;33m(\u001b[0m\u001b[1;34m'http://www.worldvaluessurvey.org/AJDocumentation.jsp?CndWAVE=6&COUNTRY='\u001b[0m\u001b[1;33m,\u001b[0m \u001b[1;34m'../data/raw/WVS_website.txt'\u001b[0m\u001b[1;33m)\u001b[0m\u001b[1;33m\u001b[0m\u001b[1;33m\u001b[0m\u001b[0m\n\u001b[1;32m---> 38\u001b[1;33m \u001b[0mfind_td_data_from_txt\u001b[0m\u001b[1;33m(\u001b[0m\u001b[1;34m'http://www.worldvaluessurvey.org/AJDocumentation.jsp?CndWAVE=6&COUNTRY='\u001b[0m\u001b[1;33m)\u001b[0m\u001b[1;33m\u001b[0m\u001b[1;33m\u001b[0m\u001b[0m\n\u001b[0m\u001b[0;32m     39\u001b[0m \u001b[0mcountries\u001b[0m \u001b[1;33m=\u001b[0m \u001b[0mcountry_list\u001b[0m\u001b[1;33m(\u001b[0m\u001b[0mtd_data\u001b[0m\u001b[1;33m)\u001b[0m\u001b[1;33m\u001b[0m\u001b[1;33m\u001b[0m\u001b[0m\n\u001b[0;32m     40\u001b[0m \u001b[0myears\u001b[0m \u001b[1;33m=\u001b[0m \u001b[0myear_list\u001b[0m\u001b[1;33m(\u001b[0m\u001b[0mtd_data\u001b[0m\u001b[1;33m)\u001b[0m\u001b[1;33m\u001b[0m\u001b[1;33m\u001b[0m\u001b[0m\n",
      "\u001b[1;31mNameError\u001b[0m: name 'find_td_data_from_txt' is not defined"
     ]
    }
   ],
   "source": []
  },
  {
   "cell_type": "code",
   "execution_count": 1,
   "metadata": {},
   "outputs": [
    {
     "name": "stdout",
     "output_type": "stream",
     "text": [
      "Textfile written!\n"
     ]
    },
    {
     "ename": "NameError",
     "evalue": "name 'td_data' is not defined",
     "output_type": "error",
     "traceback": [
      "\u001b[1;31m---------------------------------------------------------------------------\u001b[0m",
      "\u001b[1;31mNameError\u001b[0m                                 Traceback (most recent call last)",
      "\u001b[1;32m<ipython-input-1-5ab94cb5eed2>\u001b[0m in \u001b[0;36m<module>\u001b[1;34m\u001b[0m\n\u001b[0;32m     42\u001b[0m \u001b[0mread_write_text_from_url\u001b[0m\u001b[1;33m(\u001b[0m\u001b[1;34m'http://www.worldvaluessurvey.org/AJDocumentation.jsp?CndWAVE=6&COUNTRY='\u001b[0m\u001b[1;33m,\u001b[0m \u001b[1;34m'../data/raw/WVS_website.txt'\u001b[0m\u001b[1;33m)\u001b[0m\u001b[1;33m\u001b[0m\u001b[1;33m\u001b[0m\u001b[0m\n\u001b[0;32m     43\u001b[0m \u001b[0mfind_td_data_from_url\u001b[0m\u001b[1;33m(\u001b[0m\u001b[1;34m'http://www.worldvaluessurvey.org/AJDocumentation.jsp?CndWAVE=6&COUNTRY='\u001b[0m\u001b[1;33m)\u001b[0m\u001b[1;33m\u001b[0m\u001b[1;33m\u001b[0m\u001b[0m\n\u001b[1;32m---> 44\u001b[1;33m \u001b[0mcountries\u001b[0m \u001b[1;33m=\u001b[0m \u001b[0mcountry_list\u001b[0m\u001b[1;33m(\u001b[0m\u001b[0mtd_data\u001b[0m\u001b[1;33m)\u001b[0m\u001b[1;33m\u001b[0m\u001b[1;33m\u001b[0m\u001b[0m\n\u001b[0m\u001b[0;32m     45\u001b[0m \u001b[0myears\u001b[0m \u001b[1;33m=\u001b[0m \u001b[0myear_list\u001b[0m\u001b[1;33m(\u001b[0m\u001b[0mtd_data\u001b[0m\u001b[1;33m)\u001b[0m\u001b[1;33m\u001b[0m\u001b[1;33m\u001b[0m\u001b[0m\n",
      "\u001b[1;31mNameError\u001b[0m: name 'td_data' is not defined"
     ]
    }
   ],
   "source": [
    "# This function scrapes a webpage, turns it inr\n",
    "\n",
    "\n",
    "import requests\n",
    "import urllib.request\n",
    "import time\n",
    "from bs4 import BeautifulSoup\n",
    "\n",
    "def read_write_text_from_url(url, filename):\n",
    "    response = requests.get(url)\n",
    "    soup = BeautifulSoup(response.text, \"html.parser\")\n",
    "    soup_str = str(soup)\n",
    "    with open(filename, 'wt', encoding = 'UTF-8') as textfile:\n",
    "        textfile.write(soup_str)\n",
    "    print('Textfile written!')\n",
    "        \n",
    "def find_td_data_from_url(url):\n",
    "    response = requests.get(url)\n",
    "    soup = BeautifulSoup(response.text, \"html.parser\")\n",
    "    td_data = str(soup.findAll('td'))\n",
    "    return td_data\n",
    "    \n",
    "def country_list(text):\n",
    "    list_of_countries = []\n",
    "    for country in re.findall('<td>([A-Za-z]+)', text):\n",
    "        list_of_countries.append(country)\n",
    "    return list_of_countries\n",
    "\n",
    "def year_list(text):\n",
    "    list_of_years = []\n",
    "    for year in re.findall('\\s([\\d]+)</td>', text):\n",
    "        list_of_years.append(year)\n",
    "    return list_of_years\n",
    "    \n",
    "# .csv file looks like:\n",
    "# ```\n",
    "# Country,Year\n",
    "# Algeria,2014\n",
    "# Argentina,2013\n",
    "# ```\n",
    "\n",
    "read_write_text_from_url('http://www.worldvaluessurvey.org/AJDocumentation.jsp?CndWAVE=6&COUNTRY=', '../data/raw/WVS_website.txt')\n",
    "find_td_data_from_url('http://www.worldvaluessurvey.org/AJDocumentation.jsp?CndWAVE=6&COUNTRY=')\n",
    "countries = country_list(td_data)\n",
    "years = year_list(td_data)"
   ]
  },
  {
   "cell_type": "code",
   "execution_count": 5,
   "metadata": {},
   "outputs": [
    {
     "name": "stdout",
     "output_type": "stream",
     "text": [
      "Textfile written!\n"
     ]
    }
   ],
   "source": [
    "read_write_text_from_url('http://www.worldvaluessurvey.org/AJDocumentation.jsp?CndWAVE=6&COUNTRY=', '../data/raw/WVS_website.txt')"
   ]
  },
  {
   "cell_type": "code",
   "execution_count": 6,
   "metadata": {},
   "outputs": [
    {
     "name": "stdout",
     "output_type": "stream",
     "text": [
      "BeautifulSoup\t country_list\t find_td_data_from_url\t read_write_text_from_url\t requests\t time\t urllib\t year_list\t \n"
     ]
    }
   ],
   "source": [
    "who"
   ]
  },
  {
   "cell_type": "code",
   "execution_count": 1,
   "metadata": {},
   "outputs": [
    {
     "name": "stdout",
     "output_type": "stream",
     "text": [
      "Textfile written!\n",
      ".csv written!\n"
     ]
    }
   ],
   "source": [
    "import re\n",
    "import requests\n",
    "import csv\n",
    "from bs4 import BeautifulSoup\n",
    "\n",
    "def read_write_text_from_url(url, filename):\n",
    "    response = requests.get(url)\n",
    "    soup = BeautifulSoup(response.text, \"html.parser\")\n",
    "    soup_str = str(soup)\n",
    "    with open(filename, 'wt', encoding = 'UTF-8') as textfile:\n",
    "        textfile.write(soup_str)\n",
    "    print('Textfile written!')\n",
    "    return soup_str\n",
    "        \n",
    "def find_td_data_from_url(url):\n",
    "    response = requests.get(url)\n",
    "    soup = BeautifulSoup(response.text, \"html.parser\")\n",
    "    td_data = str(soup.findAll('td'))  \n",
    "    return td_data\n",
    "\n",
    "def get_country_year_pairs(text):\n",
    "    country_year_pairs = []\n",
    "    for country_year in re.findall('<td>([A-Za-z]+\\s\\d+)', text):\n",
    "        country_year_pairs.append(re.sub(\"\\s\", \",\", country_year))\n",
    "    return country_year_pairs\n",
    "\n",
    "def write_csv(filename, text):\n",
    "    with open(filename, 'wt') as textfile:\n",
    "        textfile.write('Country,Year\\n')\n",
    "        for pair in text:\n",
    "            textfile.write(pair + '\\n')\n",
    "    print('.csv written!')\n",
    "\n",
    "read_write_text_from_url('http://www.worldvaluessurvey.org/AJDocumentation.jsp?CndWAVE=6&COUNTRY=', '../data/raw/WVS_website.txt')\n",
    "td_data = find_td_data_from_url('http://www.worldvaluessurvey.org/AJDocumentation.jsp?CndWAVE=6&COUNTRY=')\n",
    "country_year_pairs = get_country_year_pairs(td_data)\n",
    "\n",
    "write_csv('../data/derived/WVS_country_year.csv', country_year_pairs)"
   ]
  },
  {
   "cell_type": "code",
   "execution_count": 14,
   "metadata": {},
   "outputs": [
    {
     "data": {
      "text/plain": [
       "['Algeria,2014',\n",
       " 'Argentina,2013',\n",
       " 'Armenia,2011',\n",
       " 'Australia,2012',\n",
       " 'Azerbaijan,2011',\n",
       " 'Belarus,2011',\n",
       " 'Brasil,2014',\n",
       " 'Colombia,2012',\n",
       " 'Cyprus,2011',\n",
       " 'Chile,2012',\n",
       " 'China,2013',\n",
       " 'Ecuador,2013',\n",
       " 'Egypt,2013',\n",
       " 'Estonia,2011',\n",
       " 'Georgia,2014',\n",
       " 'Germany,2013',\n",
       " 'Ghana,2012',\n",
       " 'Haiti,2016',\n",
       " 'India,2012',\n",
       " 'Iraq,2013',\n",
       " 'Japan,2010',\n",
       " 'Jordan,2014',\n",
       " 'Kazakhstan,2011',\n",
       " 'Kuwait,2014',\n",
       " 'Kyrgyzstan,2011',\n",
       " 'Lebanon,2013',\n",
       " 'Libya,2014',\n",
       " 'Malaysia,2012',\n",
       " 'Mexico,2012',\n",
       " 'Morocco,2011',\n",
       " 'Netherlands,2012',\n",
       " 'Nigeria,2012',\n",
       " 'Pakistan,2012',\n",
       " 'Palestine,2013',\n",
       " 'Peru,2012',\n",
       " 'Philippines,2012',\n",
       " 'Poland,2012',\n",
       " 'Qatar,2010',\n",
       " 'Romania,2012',\n",
       " 'Russia,2011',\n",
       " 'Rwanda,2012',\n",
       " 'Singapore,2012',\n",
       " 'Slovenia,2011',\n",
       " 'Spain,2011',\n",
       " 'Sweden,2011',\n",
       " 'Taiwan,2012',\n",
       " 'Thailand,2013',\n",
       " 'Tunisia,2013',\n",
       " 'Turkey,2011',\n",
       " 'Ukraine,2011',\n",
       " 'Uruguay,2011',\n",
       " 'Uzbekistan,2011',\n",
       " 'Yemen,2014',\n",
       " 'Zimbabwe,2012']"
      ]
     },
     "execution_count": 14,
     "metadata": {},
     "output_type": "execute_result"
    }
   ],
   "source": []
  },
  {
   "cell_type": "code",
   "execution_count": null,
   "metadata": {},
   "outputs": [],
   "source": []
  }
 ],
 "metadata": {
  "kernelspec": {
   "display_name": "Python 3",
   "language": "python",
   "name": "python3"
  },
  "language_info": {
   "codemirror_mode": {
    "name": "ipython",
    "version": 3
   },
   "file_extension": ".py",
   "mimetype": "text/x-python",
   "name": "python",
   "nbconvert_exporter": "python",
   "pygments_lexer": "ipython3",
   "version": "3.8.3"
  }
 },
 "nbformat": 4,
 "nbformat_minor": 4
}
